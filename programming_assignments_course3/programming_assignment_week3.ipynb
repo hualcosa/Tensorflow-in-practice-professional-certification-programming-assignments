{
  "nbformat": 4,
  "nbformat_minor": 0,
  "metadata": {
    "accelerator": "GPU",
    "colab": {
      "name": "NLP Course - Week 3 Exercise Answer.ipynb",
      "provenance": [],
      "toc_visible": true
    },
    "kernelspec": {
      "display_name": "Python 3",
      "language": "python",
      "name": "python3"
    },
    "language_info": {
      "codemirror_mode": {
        "name": "ipython",
        "version": 3
      },
      "file_extension": ".py",
      "mimetype": "text/x-python",
      "name": "python",
      "nbconvert_exporter": "python",
      "pygments_lexer": "ipython3",
      "version": "3.7.6"
    }
  },
  "cells": [
    {
      "cell_type": "code",
      "metadata": {
        "id": "zX4Kg8DUTKWO"
      },
      "source": [
        "#@title Licensed under the Apache License, Version 2.0 (the \"License\");\n",
        "# you may not use this file except in compliance with the License.\n",
        "# You may obtain a copy of the License at\n",
        "#\n",
        "# https://www.apache.org/licenses/LICENSE-2.0\n",
        "#\n",
        "# Unless required by applicable law or agreed to in writing, software\n",
        "# distributed under the License is distributed on an \"AS IS\" BASIS,\n",
        "# WITHOUT WARRANTIES OR CONDITIONS OF ANY KIND, either express or implied.\n",
        "# See the License for the specific language governing permissions and\n",
        "# limitations under the License."
      ],
      "execution_count": null,
      "outputs": []
    },
    {
      "cell_type": "markdown",
      "metadata": {
        "id": "pdaLL8LIz0L8"
      },
      "source": [
        "<a href=\"https://colab.research.google.com/github/lmoroney/dlaicourse/blob/master/TensorFlow%20In%20Practice/Course%203%20-%20NLP/NLP%20Course%20-%20Week%203%20Exercise%20Answer.ipynb\" target=\"_parent\"><img src=\"https://colab.research.google.com/assets/colab-badge.svg\" alt=\"Open In Colab\"/></a>"
      ]
    },
    {
      "cell_type": "code",
      "metadata": {
        "id": "hmA6EzkQJ5jt"
      },
      "source": [
        "import json\n",
        "import tensorflow as tf\n",
        "import csv\n",
        "import random\n",
        "import numpy as np\n",
        "\n",
        "from tensorflow.keras.preprocessing.text import Tokenizer\n",
        "from tensorflow.keras.preprocessing.sequence import pad_sequences\n",
        "from tensorflow.keras.utils import to_categorical\n",
        "from tensorflow.keras import regularizers\n",
        "\n",
        "\n",
        "embedding_dim = 100\n",
        "max_length = 16\n",
        "trunc_type='post'\n",
        "padding_type='post'\n",
        "oov_tok = \"<OOV>\"\n",
        "training_size=160000\n",
        "test_portion=.1\n",
        "\n",
        "corpus = []\n"
      ],
      "execution_count": 1,
      "outputs": []
    },
    {
      "cell_type": "code",
      "metadata": {
        "id": "bM0l_dORKqE0",
        "outputId": "388930c7-7d8f-478d-8e89-24f0b5959afa",
        "colab": {
          "base_uri": "https://localhost:8080/",
          "height": 207
        }
      },
      "source": [
        "# Note that I cleaned the Stanford dataset to remove LATIN1 encoding to make it easier for Python CSV reader\n",
        "# You can do that yourself with:\n",
        "# iconv -f LATIN1 -t UTF8 training.1600000.processed.noemoticon.csv -o training_cleaned.csv\n",
        "# I then hosted it on my site to make it easier to use in this notebook\n",
        "\n",
        "!wget --no-check-certificate \\\n",
        "    https://storage.googleapis.com/laurencemoroney-blog.appspot.com/training_cleaned.csv \\\n",
        "    -O /tmp/training_cleaned.csv\n",
        "\n",
        "num_sentences = 0\n",
        "\n",
        "with open(\"/tmp/training_cleaned.csv\") as csvfile:\n",
        "    reader = csv.reader(csvfile, delimiter=',')\n",
        "    for row in reader:\n",
        "        list_item=[]\n",
        "        list_item.append(row[5])\n",
        "        this_label=row[0]\n",
        "        if this_label=='0':\n",
        "            list_item.append(0)\n",
        "        else:\n",
        "            list_item.append(1)\n",
        "        num_sentences = num_sentences + 1\n",
        "        corpus.append(list_item)\n"
      ],
      "execution_count": 2,
      "outputs": [
        {
          "output_type": "stream",
          "text": [
            "--2020-10-24 04:24:41--  https://storage.googleapis.com/laurencemoroney-blog.appspot.com/training_cleaned.csv\n",
            "Resolving storage.googleapis.com (storage.googleapis.com)... 74.125.195.128, 74.125.142.128, 74.125.20.128, ...\n",
            "Connecting to storage.googleapis.com (storage.googleapis.com)|74.125.195.128|:443... connected.\n",
            "HTTP request sent, awaiting response... 200 OK\n",
            "Length: 238942690 (228M) [application/octet-stream]\n",
            "Saving to: ‘/tmp/training_cleaned.csv’\n",
            "\n",
            "/tmp/training_clean 100%[===================>] 227.87M   124MB/s    in 1.8s    \n",
            "\n",
            "2020-10-24 04:24:43 (124 MB/s) - ‘/tmp/training_cleaned.csv’ saved [238942690/238942690]\n",
            "\n"
          ],
          "name": "stdout"
        }
      ]
    },
    {
      "cell_type": "code",
      "metadata": {
        "id": "3kxblBUjEUX-",
        "outputId": "de9a4b74-8457-4755-89ec-dd91cd690318",
        "colab": {
          "base_uri": "https://localhost:8080/",
          "height": 69
        }
      },
      "source": [
        "print(num_sentences)\n",
        "print(len(corpus))\n",
        "print(corpus[1])\n",
        "\n",
        "# Expected Output:\n",
        "# 1600000\n",
        "# 1600000\n",
        "# [\"is upset that he can't update his Facebook by texting it... and might cry as a result  School today also. Blah!\", 0]"
      ],
      "execution_count": 3,
      "outputs": [
        {
          "output_type": "stream",
          "text": [
            "1600000\n",
            "1600000\n",
            "[\"is upset that he can't update his Facebook by texting it... and might cry as a result  School today also. Blah!\", 0]\n"
          ],
          "name": "stdout"
        }
      ]
    },
    {
      "cell_type": "code",
      "metadata": {
        "id": "ohOGz24lsNAD"
      },
      "source": [
        "sentences=[]\n",
        "labels=[]\n",
        "random.shuffle(corpus)\n",
        "for x in range(training_size):\n",
        "    sentences.append(corpus[x][0])\n",
        "    labels.append(corpus[x][1])\n",
        "\n",
        "\n",
        "tokenizer = Tokenizer()\n",
        "tokenizer.fit_on_texts(sentences)\n",
        "\n",
        "word_index = tokenizer.word_index\n",
        "vocab_size=len(word_index)\n",
        "\n",
        "sequences = tokenizer.texts_to_sequences(sentences)\n",
        "padded = pad_sequences(sequences, maxlen=max_length, padding=padding_type, truncating=trunc_type)\n",
        "\n",
        "split = int(test_portion * training_size)\n",
        "\n",
        "test_sequences = padded[0:split]\n",
        "training_sequences = padded[split:training_size]\n",
        "test_labels = labels[0:split]\n",
        "training_labels = labels[split:training_size]"
      ],
      "execution_count": 4,
      "outputs": []
    },
    {
      "cell_type": "code",
      "metadata": {
        "id": "gIrtRem1En3N",
        "outputId": "5a7db867-0533-4b57-8d2c-9be0fb11e417",
        "colab": {
          "base_uri": "https://localhost:8080/",
          "height": 51
        }
      },
      "source": [
        "print(vocab_size)\n",
        "print(word_index['i'])\n",
        "# Expected Output\n",
        "# 138858\n",
        "# 1"
      ],
      "execution_count": 5,
      "outputs": [
        {
          "output_type": "stream",
          "text": [
            "138511\n",
            "1\n"
          ],
          "name": "stdout"
        }
      ]
    },
    {
      "cell_type": "code",
      "metadata": {
        "id": "C1zdgJkusRh0",
        "outputId": "9ea4d41b-5102-4037-9ed9-5f1f1f7190c9",
        "colab": {
          "base_uri": "https://localhost:8080/",
          "height": 207
        }
      },
      "source": [
        "# Note this is the 100 dimension version of GloVe from Stanford\n",
        "# I unzipped and hosted it on my site to make this notebook easier\n",
        "!wget --no-check-certificate \\\n",
        "    https://storage.googleapis.com/laurencemoroney-blog.appspot.com/glove.6B.100d.txt \\\n",
        "    -O /tmp/glove.6B.100d.txt\n",
        "embeddings_index = {};\n",
        "with open('/tmp/glove.6B.100d.txt') as f:\n",
        "    for line in f:\n",
        "        values = line.split();\n",
        "        word = values[0];\n",
        "        coefs = np.asarray(values[1:], dtype='float32');\n",
        "        embeddings_index[word] = coefs;\n",
        "\n",
        "embeddings_matrix = np.zeros((vocab_size+1, embedding_dim));\n",
        "for word, i in word_index.items():\n",
        "    embedding_vector = embeddings_index.get(word);\n",
        "    if embedding_vector is not None:\n",
        "        embeddings_matrix[i] = embedding_vector;"
      ],
      "execution_count": 6,
      "outputs": [
        {
          "output_type": "stream",
          "text": [
            "--2020-10-24 04:24:56--  https://storage.googleapis.com/laurencemoroney-blog.appspot.com/glove.6B.100d.txt\n",
            "Resolving storage.googleapis.com (storage.googleapis.com)... 74.125.195.128, 74.125.142.128, 74.125.20.128, ...\n",
            "Connecting to storage.googleapis.com (storage.googleapis.com)|74.125.195.128|:443... connected.\n",
            "HTTP request sent, awaiting response... 200 OK\n",
            "Length: 347116733 (331M) [text/plain]\n",
            "Saving to: ‘/tmp/glove.6B.100d.txt’\n",
            "\n",
            "/tmp/glove.6B.100d. 100%[===================>] 331.04M   117MB/s    in 2.8s    \n",
            "\n",
            "2020-10-24 04:24:59 (117 MB/s) - ‘/tmp/glove.6B.100d.txt’ saved [347116733/347116733]\n",
            "\n"
          ],
          "name": "stdout"
        }
      ]
    },
    {
      "cell_type": "code",
      "metadata": {
        "id": "71NLk_lpFLNt",
        "outputId": "c5853161-8e25-4882-8cda-828a142f84c8",
        "colab": {
          "base_uri": "https://localhost:8080/",
          "height": 34
        }
      },
      "source": [
        "print(len(embeddings_matrix))\n",
        "# Expected Output\n",
        "# 138859"
      ],
      "execution_count": 7,
      "outputs": [
        {
          "output_type": "stream",
          "text": [
            "138512\n"
          ],
          "name": "stdout"
        }
      ]
    },
    {
      "cell_type": "code",
      "metadata": {
        "id": "iKKvbuEBOGFz",
        "outputId": "3ac32101-10e8-4656-ab9f-03b6a4a60112",
        "colab": {
          "base_uri": "https://localhost:8080/",
          "height": 1000
        }
      },
      "source": [
        "model = tf.keras.Sequential([\n",
        "    tf.keras.layers.Embedding(vocab_size+1, embedding_dim, input_length=max_length, weights=[embeddings_matrix], trainable=False),\n",
        "    tf.keras.layers.Dropout(0.2),\n",
        "    tf.keras.layers.Conv1D(64, 5, activation='relu'),\n",
        "    tf.keras.layers.MaxPooling1D(pool_size=4),\n",
        "    tf.keras.layers.LSTM(64),\n",
        "    tf.keras.layers.Dense(1, activation='sigmoid')\n",
        "])\n",
        "model.compile(loss='binary_crossentropy',optimizer='adam',metrics=['accuracy'])\n",
        "model.summary()\n",
        "\n",
        "num_epochs = 50\n",
        "\n",
        "training_padded = np.array(training_sequences)\n",
        "training_labels = np.array(training_labels)\n",
        "testing_padded = np.array(test_sequences)\n",
        "testing_labels = np.array(test_labels)\n",
        "\n",
        "history = model.fit(training_padded, training_labels, epochs=num_epochs, validation_data=(testing_padded, testing_labels), verbose=2)\n",
        "\n",
        "print(\"Training Complete\")"
      ],
      "execution_count": 8,
      "outputs": [
        {
          "output_type": "stream",
          "text": [
            "Model: \"sequential\"\n",
            "_________________________________________________________________\n",
            "Layer (type)                 Output Shape              Param #   \n",
            "=================================================================\n",
            "embedding (Embedding)        (None, 16, 100)           13851200  \n",
            "_________________________________________________________________\n",
            "dropout (Dropout)            (None, 16, 100)           0         \n",
            "_________________________________________________________________\n",
            "conv1d (Conv1D)              (None, 12, 64)            32064     \n",
            "_________________________________________________________________\n",
            "max_pooling1d (MaxPooling1D) (None, 3, 64)             0         \n",
            "_________________________________________________________________\n",
            "lstm (LSTM)                  (None, 64)                33024     \n",
            "_________________________________________________________________\n",
            "dense (Dense)                (None, 1)                 65        \n",
            "=================================================================\n",
            "Total params: 13,916,353\n",
            "Trainable params: 65,153\n",
            "Non-trainable params: 13,851,200\n",
            "_________________________________________________________________\n",
            "Epoch 1/50\n",
            "4500/4500 - 16s - loss: 0.5659 - accuracy: 0.7008 - val_loss: 0.5341 - val_accuracy: 0.7264\n",
            "Epoch 2/50\n",
            "4500/4500 - 15s - loss: 0.5251 - accuracy: 0.7338 - val_loss: 0.5068 - val_accuracy: 0.7505\n",
            "Epoch 3/50\n",
            "4500/4500 - 16s - loss: 0.5091 - accuracy: 0.7460 - val_loss: 0.5024 - val_accuracy: 0.7525\n",
            "Epoch 4/50\n",
            "4500/4500 - 16s - loss: 0.4976 - accuracy: 0.7528 - val_loss: 0.4965 - val_accuracy: 0.7533\n",
            "Epoch 5/50\n",
            "4500/4500 - 16s - loss: 0.4892 - accuracy: 0.7589 - val_loss: 0.4935 - val_accuracy: 0.7542\n",
            "Epoch 6/50\n",
            "4500/4500 - 16s - loss: 0.4819 - accuracy: 0.7645 - val_loss: 0.4932 - val_accuracy: 0.7580\n",
            "Epoch 7/50\n",
            "4500/4500 - 16s - loss: 0.4770 - accuracy: 0.7675 - val_loss: 0.4954 - val_accuracy: 0.7546\n",
            "Epoch 8/50\n",
            "4500/4500 - 16s - loss: 0.4715 - accuracy: 0.7703 - val_loss: 0.5073 - val_accuracy: 0.7498\n",
            "Epoch 9/50\n",
            "4500/4500 - 15s - loss: 0.4665 - accuracy: 0.7742 - val_loss: 0.4925 - val_accuracy: 0.7572\n",
            "Epoch 10/50\n",
            "4500/4500 - 15s - loss: 0.4630 - accuracy: 0.7753 - val_loss: 0.4931 - val_accuracy: 0.7577\n",
            "Epoch 11/50\n",
            "4500/4500 - 15s - loss: 0.4603 - accuracy: 0.7779 - val_loss: 0.5022 - val_accuracy: 0.7517\n",
            "Epoch 12/50\n",
            "4500/4500 - 15s - loss: 0.4566 - accuracy: 0.7794 - val_loss: 0.4947 - val_accuracy: 0.7581\n",
            "Epoch 13/50\n",
            "4500/4500 - 15s - loss: 0.4542 - accuracy: 0.7806 - val_loss: 0.4967 - val_accuracy: 0.7567\n",
            "Epoch 14/50\n",
            "4500/4500 - 15s - loss: 0.4514 - accuracy: 0.7827 - val_loss: 0.5055 - val_accuracy: 0.7543\n",
            "Epoch 15/50\n",
            "4500/4500 - 15s - loss: 0.4492 - accuracy: 0.7842 - val_loss: 0.5014 - val_accuracy: 0.7558\n",
            "Epoch 16/50\n",
            "4500/4500 - 14s - loss: 0.4471 - accuracy: 0.7855 - val_loss: 0.4993 - val_accuracy: 0.7580\n",
            "Epoch 17/50\n",
            "4500/4500 - 14s - loss: 0.4469 - accuracy: 0.7851 - val_loss: 0.5014 - val_accuracy: 0.7539\n",
            "Epoch 18/50\n",
            "4500/4500 - 14s - loss: 0.4428 - accuracy: 0.7871 - val_loss: 0.4985 - val_accuracy: 0.7597\n",
            "Epoch 19/50\n",
            "4500/4500 - 14s - loss: 0.4447 - accuracy: 0.7863 - val_loss: 0.5027 - val_accuracy: 0.7552\n",
            "Epoch 20/50\n",
            "4500/4500 - 14s - loss: 0.4404 - accuracy: 0.7904 - val_loss: 0.5010 - val_accuracy: 0.7579\n",
            "Epoch 21/50\n",
            "4500/4500 - 15s - loss: 0.4395 - accuracy: 0.7897 - val_loss: 0.5078 - val_accuracy: 0.7567\n",
            "Epoch 22/50\n",
            "4500/4500 - 14s - loss: 0.4394 - accuracy: 0.7889 - val_loss: 0.5038 - val_accuracy: 0.7556\n",
            "Epoch 23/50\n",
            "4500/4500 - 15s - loss: 0.4384 - accuracy: 0.7908 - val_loss: 0.5042 - val_accuracy: 0.7555\n",
            "Epoch 24/50\n",
            "4500/4500 - 15s - loss: 0.4367 - accuracy: 0.7914 - val_loss: 0.5086 - val_accuracy: 0.7526\n",
            "Epoch 25/50\n",
            "4500/4500 - 16s - loss: 0.4362 - accuracy: 0.7923 - val_loss: 0.5080 - val_accuracy: 0.7573\n",
            "Epoch 26/50\n",
            "4500/4500 - 16s - loss: 0.4344 - accuracy: 0.7925 - val_loss: 0.5051 - val_accuracy: 0.7540\n",
            "Epoch 27/50\n",
            "4500/4500 - 15s - loss: 0.4331 - accuracy: 0.7940 - val_loss: 0.5090 - val_accuracy: 0.7530\n",
            "Epoch 28/50\n",
            "4500/4500 - 16s - loss: 0.4338 - accuracy: 0.7931 - val_loss: 0.5082 - val_accuracy: 0.7550\n",
            "Epoch 29/50\n",
            "4500/4500 - 15s - loss: 0.4320 - accuracy: 0.7944 - val_loss: 0.5096 - val_accuracy: 0.7542\n",
            "Epoch 30/50\n",
            "4500/4500 - 15s - loss: 0.4333 - accuracy: 0.7946 - val_loss: 0.5033 - val_accuracy: 0.7572\n",
            "Epoch 31/50\n",
            "4500/4500 - 15s - loss: 0.4322 - accuracy: 0.7938 - val_loss: 0.5079 - val_accuracy: 0.7541\n",
            "Epoch 32/50\n",
            "4500/4500 - 15s - loss: 0.4307 - accuracy: 0.7952 - val_loss: 0.5076 - val_accuracy: 0.7572\n",
            "Epoch 33/50\n",
            "4500/4500 - 16s - loss: 0.4304 - accuracy: 0.7951 - val_loss: 0.5148 - val_accuracy: 0.7554\n",
            "Epoch 34/50\n",
            "4500/4500 - 15s - loss: 0.4298 - accuracy: 0.7965 - val_loss: 0.5109 - val_accuracy: 0.7532\n",
            "Epoch 35/50\n",
            "4500/4500 - 15s - loss: 0.4294 - accuracy: 0.7948 - val_loss: 0.5163 - val_accuracy: 0.7473\n",
            "Epoch 36/50\n",
            "4500/4500 - 15s - loss: 0.4285 - accuracy: 0.7968 - val_loss: 0.5103 - val_accuracy: 0.7531\n",
            "Epoch 37/50\n",
            "4500/4500 - 15s - loss: 0.4292 - accuracy: 0.7965 - val_loss: 0.5168 - val_accuracy: 0.7506\n",
            "Epoch 38/50\n",
            "4500/4500 - 15s - loss: 0.4280 - accuracy: 0.7974 - val_loss: 0.5081 - val_accuracy: 0.7496\n",
            "Epoch 39/50\n",
            "4500/4500 - 16s - loss: 0.4277 - accuracy: 0.7964 - val_loss: 0.5103 - val_accuracy: 0.7514\n",
            "Epoch 40/50\n",
            "4500/4500 - 15s - loss: 0.4260 - accuracy: 0.7973 - val_loss: 0.5090 - val_accuracy: 0.7496\n",
            "Epoch 41/50\n",
            "4500/4500 - 15s - loss: 0.4263 - accuracy: 0.7979 - val_loss: 0.5173 - val_accuracy: 0.7509\n",
            "Epoch 42/50\n",
            "4500/4500 - 15s - loss: 0.4275 - accuracy: 0.7967 - val_loss: 0.5086 - val_accuracy: 0.7483\n",
            "Epoch 43/50\n",
            "4500/4500 - 15s - loss: 0.4267 - accuracy: 0.7971 - val_loss: 0.5079 - val_accuracy: 0.7546\n",
            "Epoch 44/50\n",
            "4500/4500 - 15s - loss: 0.4242 - accuracy: 0.7987 - val_loss: 0.5142 - val_accuracy: 0.7556\n",
            "Epoch 45/50\n",
            "4500/4500 - 15s - loss: 0.4261 - accuracy: 0.7973 - val_loss: 0.5114 - val_accuracy: 0.7541\n",
            "Epoch 46/50\n",
            "4500/4500 - 17s - loss: 0.4244 - accuracy: 0.7990 - val_loss: 0.5151 - val_accuracy: 0.7546\n",
            "Epoch 47/50\n",
            "4500/4500 - 16s - loss: 0.4261 - accuracy: 0.7996 - val_loss: 0.5115 - val_accuracy: 0.7503\n",
            "Epoch 48/50\n",
            "4500/4500 - 15s - loss: 0.4247 - accuracy: 0.7992 - val_loss: 0.5166 - val_accuracy: 0.7507\n",
            "Epoch 49/50\n",
            "4500/4500 - 15s - loss: 0.4252 - accuracy: 0.7989 - val_loss: 0.5130 - val_accuracy: 0.7531\n",
            "Epoch 50/50\n",
            "4500/4500 - 15s - loss: 0.4238 - accuracy: 0.7993 - val_loss: 0.5136 - val_accuracy: 0.7521\n",
            "Training Complete\n"
          ],
          "name": "stdout"
        }
      ]
    },
    {
      "cell_type": "code",
      "metadata": {
        "id": "qxju4ItJKO8F",
        "outputId": "33e1e546-0775-4121-bbcc-ebcc59ecb222",
        "colab": {
          "base_uri": "https://localhost:8080/",
          "height": 607
        }
      },
      "source": [
        "import matplotlib.image  as mpimg\n",
        "import matplotlib.pyplot as plt\n",
        "\n",
        "#-----------------------------------------------------------\n",
        "# Retrieve a list of list results on training and test data\n",
        "# sets for each training epoch\n",
        "#-----------------------------------------------------------\n",
        "acc=history.history['accuracy']\n",
        "val_acc=history.history['val_accuracy']\n",
        "loss=history.history['loss']\n",
        "val_loss=history.history['val_loss']\n",
        "\n",
        "epochs=range(len(acc)) # Get number of epochs\n",
        "\n",
        "#------------------------------------------------\n",
        "# Plot training and validation accuracy per epoch\n",
        "#------------------------------------------------\n",
        "plt.plot(epochs, acc, 'r')\n",
        "plt.plot(epochs, val_acc, 'b')\n",
        "plt.title('Training and validation accuracy')\n",
        "plt.xlabel(\"Epochs\")\n",
        "plt.ylabel(\"Accuracy\")\n",
        "plt.legend([\"Accuracy\", \"Validation Accuracy\"])\n",
        "\n",
        "plt.figure()\n",
        "\n",
        "#------------------------------------------------\n",
        "# Plot training and validation loss per epoch\n",
        "#------------------------------------------------\n",
        "plt.plot(epochs, loss, 'r')\n",
        "plt.plot(epochs, val_loss, 'b')\n",
        "plt.title('Training and validation loss')\n",
        "plt.xlabel(\"Epochs\")\n",
        "plt.ylabel(\"Loss\")\n",
        "plt.legend([\"Loss\", \"Validation Loss\"])\n",
        "\n",
        "plt.figure()\n",
        "\n",
        "\n",
        "# Expected Output\n",
        "# A chart where the validation loss does not increase sharply!"
      ],
      "execution_count": 9,
      "outputs": [
        {
          "output_type": "execute_result",
          "data": {
            "text/plain": [
              "<Figure size 432x288 with 0 Axes>"
            ]
          },
          "metadata": {
            "tags": []
          },
          "execution_count": 9
        },
        {
          "output_type": "display_data",
          "data": {
            "image/png": "[encoded data removed]",
            "text/plain": [
              "<Figure size 432x288 with 1 Axes>"
            ]
          },
          "metadata": {
            "tags": [],
            "needs_background": "light"
          }
        },
        {
          "output_type": "display_data",
          "data": {
            "image/png": "[encoded data removed]",
            "text/plain": [
              "<Figure size 432x288 with 1 Axes>"
            ]
          },
          "metadata": {
            "tags": [],
            "needs_background": "light"
          }
        },
        {
          "output_type": "display_data",
          "data": {
            "text/plain": [
              "<Figure size 432x288 with 0 Axes>"
            ]
          },
          "metadata": {
            "tags": []
          }
        }
      ]
    }
  ]
}